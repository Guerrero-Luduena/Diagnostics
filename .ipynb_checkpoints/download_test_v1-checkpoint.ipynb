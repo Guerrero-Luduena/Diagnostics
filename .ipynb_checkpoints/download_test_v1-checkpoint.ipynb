{
 "cells": [
  {
   "cell_type": "code",
   "execution_count": 33,
   "metadata": {
    "collapsed": true
   },
   "outputs": [],
   "source": [
    "import pandas as pd\n",
    "import numpy as np\n",
    "import urllib\n",
    "import os"
   ]
  },
  {
   "cell_type": "code",
   "execution_count": 59,
   "metadata": {
    "collapsed": false
   },
   "outputs": [
    {
     "data": {
      "text/html": [
       "<div>\n",
       "<table border=\"1\" class=\"dataframe\">\n",
       "  <thead>\n",
       "    <tr style=\"text-align: right;\">\n",
       "      <th></th>\n",
       "      <th>Date</th>\n",
       "      <th>Period</th>\n",
       "      <th>Name</th>\n",
       "      <th>Url</th>\n",
       "      <th>Description</th>\n",
       "    </tr>\n",
       "  </thead>\n",
       "  <tbody>\n",
       "    <tr>\n",
       "      <th>0</th>\n",
       "      <td>2015-2016</td>\n",
       "      <td>2001-01-01</td>\n",
       "      <td>DID_diagnostic_imaging_dataset_modality_provid...</td>\n",
       "      <td>https://www.england.nhs.uk/statistics/wp-conte...</td>\n",
       "      <td>Tables 1a-1h 2015-16 Modality Provider Counts ...</td>\n",
       "    </tr>\n",
       "    <tr>\n",
       "      <th>1</th>\n",
       "      <td>2014-2015</td>\n",
       "      <td>2001-01-01</td>\n",
       "      <td>DID_diagnostic_imaging_dataset_modality_provid...</td>\n",
       "      <td>https://www.england.nhs.uk/statistics/wp-conte...</td>\n",
       "      <td>Table 1a-1l 2014-15 Modality Provider Counts 2...</td>\n",
       "    </tr>\n",
       "    <tr>\n",
       "      <th>2</th>\n",
       "      <td>2013-2014</td>\n",
       "      <td>2001-01-01</td>\n",
       "      <td>DID_diagnostic_imaging_dataset_modality_provid...</td>\n",
       "      <td>https://www.england.nhs.uk/statistics/wp-conte...</td>\n",
       "      <td>Table 1a-1l 2013-14 Modality Provider Counts (...</td>\n",
       "    </tr>\n",
       "    <tr>\n",
       "      <th>3</th>\n",
       "      <td>2012-2013</td>\n",
       "      <td>2001-01-01</td>\n",
       "      <td>DID_diagnostic_imaging_dataset_modality_provid...</td>\n",
       "      <td>https://www.england.nhs.uk/statistics/wp-conte...</td>\n",
       "      <td>Tables 1a-1l Modality Provider Counts 2013-10-...</td>\n",
       "    </tr>\n",
       "    <tr>\n",
       "      <th>4</th>\n",
       "      <td>test</td>\n",
       "      <td>2016-01-01</td>\n",
       "      <td>Monthly_Diagnostic_Waiting_Times_and_Activity</td>\n",
       "      <td>https://www.england.nhs.uk/statistics/wp-conte...</td>\n",
       "      <td>test of /10/10</td>\n",
       "    </tr>\n",
       "  </tbody>\n",
       "</table>\n",
       "</div>"
      ],
      "text/plain": [
       "        Date     Period                                               Name  \\\n",
       "0  2015-2016 2001-01-01  DID_diagnostic_imaging_dataset_modality_provid...   \n",
       "1  2014-2015 2001-01-01  DID_diagnostic_imaging_dataset_modality_provid...   \n",
       "2  2013-2014 2001-01-01  DID_diagnostic_imaging_dataset_modality_provid...   \n",
       "3  2012-2013 2001-01-01  DID_diagnostic_imaging_dataset_modality_provid...   \n",
       "4       test 2016-01-01      Monthly_Diagnostic_Waiting_Times_and_Activity   \n",
       "\n",
       "                                                 Url  \\\n",
       "0  https://www.england.nhs.uk/statistics/wp-conte...   \n",
       "1  https://www.england.nhs.uk/statistics/wp-conte...   \n",
       "2  https://www.england.nhs.uk/statistics/wp-conte...   \n",
       "3  https://www.england.nhs.uk/statistics/wp-conte...   \n",
       "4  https://www.england.nhs.uk/statistics/wp-conte...   \n",
       "\n",
       "                                         Description  \n",
       "0  Tables 1a-1h 2015-16 Modality Provider Counts ...  \n",
       "1  Table 1a-1l 2014-15 Modality Provider Counts 2...  \n",
       "2  Table 1a-1l 2013-14 Modality Provider Counts (...  \n",
       "3  Tables 1a-1l Modality Provider Counts 2013-10-...  \n",
       "4                                     test of /10/10  "
      ]
     },
     "execution_count": 59,
     "metadata": {},
     "output_type": "execute_result"
    }
   ],
   "source": [
    "test = pd.read_excel('20160321_data_sets_V2.xlsx',sheetname='Sheet1')\n",
    "test.head()"
   ]
  },
  {
   "cell_type": "code",
   "execution_count": 60,
   "metadata": {
    "collapsed": false
   },
   "outputs": [
    {
     "data": {
      "text/plain": [
       "'2015-07-01'"
      ]
     },
     "execution_count": 60,
     "metadata": {},
     "output_type": "execute_result"
    }
   ],
   "source": [
    "test.Period[10].strftime('%Y-%m-%d')\n"
   ]
  },
  {
   "cell_type": "markdown",
   "metadata": {},
   "source": [
    "!atom README.md"
   ]
  },
  {
   "cell_type": "code",
   "execution_count": 71,
   "metadata": {
    "collapsed": false
   },
   "outputs": [
    {
     "name": "stdout",
     "output_type": "stream",
     "text": [
      "2015-2016 DID_diagnostic_imaging_dataset_modality_provider_counts\n",
      "2014-2015 DID_diagnostic_imaging_dataset_modality_provider_counts\n",
      "2013-2014 DID_diagnostic_imaging_dataset_modality_provider_counts\n",
      "2012-2013 DID_diagnostic_imaging_dataset_modality_provider_counts\n",
      "jan 16 Monthly_Diagnostic_Waiting_Times_and_Activity\n",
      "dec 15 Monthly_Diagnostic_Waiting_Times_and_Activity\n",
      "nov 15 Monthly_Diagnostic_Waiting_Times_and_Activity\n",
      "oct 15 Monthly_Diagnostic_Waiting_Times_and_Activity\n"
     ]
    },
    {
     "ename": "TypeError",
     "evalue": "unsupported operand type(s) for +: 'int' and 'str'",
     "output_type": "error",
     "traceback": [
      "\u001b[1;31m---------------------------------------------------------------------------\u001b[0m",
      "\u001b[1;31mTypeError\u001b[0m                                 Traceback (most recent call last)",
      "\u001b[1;32m<ipython-input-71-5ae7d507e034>\u001b[0m in \u001b[0;36m<module>\u001b[1;34m()\u001b[0m\n\u001b[0;32m     33\u001b[0m     \u001b[1;32mreturn\u001b[0m\u001b[1;33m(\u001b[0m\u001b[0mprint\u001b[0m\u001b[1;33m(\u001b[0m\u001b[1;34m'All downloads complete'\u001b[0m\u001b[1;33m)\u001b[0m\u001b[1;33m)\u001b[0m\u001b[1;33m\u001b[0m\u001b[0m\n\u001b[0;32m     34\u001b[0m \u001b[1;33m\u001b[0m\u001b[0m\n\u001b[1;32m---> 35\u001b[1;33m \u001b[0minitiate_file_download\u001b[0m\u001b[1;33m(\u001b[0m\u001b[1;34m'20160321_data_sets_v2.xlsx'\u001b[0m\u001b[1;33m)\u001b[0m\u001b[1;33m\u001b[0m\u001b[0m\n\u001b[0m\u001b[0;32m     36\u001b[0m \u001b[1;31m#initiate_file_download('20160321_cancer_waiting_times.csv')\u001b[0m\u001b[1;33m\u001b[0m\u001b[1;33m\u001b[0m\u001b[0m\n",
      "\u001b[1;32m<ipython-input-71-5ae7d507e034>\u001b[0m in \u001b[0;36minitiate_file_download\u001b[1;34m(file_name)\u001b[0m\n\u001b[0;32m     15\u001b[0m     \u001b[1;32mfor\u001b[0m \u001b[0mi\u001b[0m\u001b[1;33m,\u001b[0m\u001b[0mrow\u001b[0m \u001b[1;32min\u001b[0m \u001b[0mfile_lst\u001b[0m\u001b[1;33m.\u001b[0m\u001b[0miterrows\u001b[0m\u001b[1;33m(\u001b[0m\u001b[1;33m)\u001b[0m\u001b[1;33m:\u001b[0m\u001b[1;33m\u001b[0m\u001b[0m\n\u001b[0;32m     16\u001b[0m         \u001b[1;31m#print(i)\u001b[0m\u001b[1;33m\u001b[0m\u001b[1;33m\u001b[0m\u001b[0m\n\u001b[1;32m---> 17\u001b[1;33m         \u001b[0mprint\u001b[0m\u001b[1;33m(\u001b[0m\u001b[0mrow\u001b[0m\u001b[1;33m[\u001b[0m\u001b[1;34m'Date'\u001b[0m\u001b[1;33m]\u001b[0m \u001b[1;33m+\u001b[0m \u001b[1;34m' '\u001b[0m \u001b[1;33m+\u001b[0m \u001b[0mrow\u001b[0m\u001b[1;33m[\u001b[0m\u001b[1;34m'Name'\u001b[0m\u001b[1;33m]\u001b[0m\u001b[1;33m)\u001b[0m\u001b[1;33m\u001b[0m\u001b[0m\n\u001b[0m\u001b[0;32m     18\u001b[0m         \u001b[1;31m#print(row['Url'])\u001b[0m\u001b[1;33m\u001b[0m\u001b[1;33m\u001b[0m\u001b[0m\n\u001b[0;32m     19\u001b[0m \u001b[1;33m\u001b[0m\u001b[0m\n",
      "\u001b[1;31mTypeError\u001b[0m: unsupported operand type(s) for +: 'int' and 'str'"
     ]
    }
   ],
   "source": [
    "def initiate_file_download(file_name):\n",
    "    \"\"\"\n",
    "    function which takes file_name: csv file containing data on name/date/http location of files to be downloaded\n",
    "    Initiates download into folder with name of dataset \n",
    "    \"\"\"\n",
    "    #### create diag_data directory if does not exist\n",
    "    directory  = '../diag_data'\n",
    "    if not os.path.exists(directory):\n",
    "        os.makedirs(directory)\n",
    "    \n",
    "    #### Look in file_name and create df\n",
    "    file_lst = pd.read_excel(file_name) #,error_bad_lines=False)\n",
    "    \n",
    "    #### begin looping over dataframe to download each file\n",
    "    for i,row in file_lst.iterrows():\n",
    "        #print(i)\n",
    "        print(row['Date'] + ' ' + row['Name'])\n",
    "        #print(row['Url'])\n",
    "        \n",
    "        #### check for data_directory and create if does not exist\n",
    "        directory  = '../diag_data/' + row['Name']\n",
    "        if not os.path.exists(directory):\n",
    "            os.makedirs(directory)\n",
    "            \n",
    "        #### get file extension\n",
    "        ext = row['Url'].split('.')[-1]\n",
    "        #### get file name\n",
    "        name = row['Date'] + '(' + row['Period'].strftime('%Y-%m-%d') + ')'\n",
    "            \n",
    "        #### download file\n",
    "        urllib.request.urlretrieve(row['Url'], directory + '/' + name + '.' + ext)\n",
    "        \n",
    "    return(print('All downloads complete'))\n",
    "\n",
    "initiate_file_download('20160321_data_sets_v2.xlsx')\n",
    "#initiate_file_download('20160321_cancer_waiting_times.csv')"
   ]
  },
  {
   "cell_type": "code",
   "execution_count": null,
   "metadata": {
    "collapsed": true
   },
   "outputs": [],
   "source": []
  },
  {
   "cell_type": "code",
   "execution_count": null,
   "metadata": {
    "collapsed": true
   },
   "outputs": [],
   "source": []
  },
  {
   "cell_type": "code",
   "execution_count": 31,
   "metadata": {
    "collapsed": false
   },
   "outputs": [],
   "source": []
  },
  {
   "cell_type": "code",
   "execution_count": null,
   "metadata": {
    "collapsed": true
   },
   "outputs": [],
   "source": []
  }
 ],
 "metadata": {
  "kernelspec": {
   "display_name": "Python 3",
   "language": "python",
   "name": "python3"
  },
  "language_info": {
   "codemirror_mode": {
    "name": "ipython",
    "version": 3
   },
   "file_extension": ".py",
   "mimetype": "text/x-python",
   "name": "python",
   "nbconvert_exporter": "python",
   "pygments_lexer": "ipython3",
   "version": "3.4.3"
  }
 },
 "nbformat": 4,
 "nbformat_minor": 0
}
