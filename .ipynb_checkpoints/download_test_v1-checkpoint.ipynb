{
 "cells": [
  {
   "cell_type": "code",
   "execution_count": 1,
   "metadata": {
    "collapsed": true
   },
   "outputs": [],
   "source": [
    "import pandas as pd\n",
    "import numpy as np\n",
    "import urllib\n",
    "import os"
   ]
  },
  {
   "cell_type": "code",
   "execution_count": 2,
   "metadata": {
    "collapsed": false
   },
   "outputs": [
    {
     "name": "stdout",
     "output_type": "stream",
     "text": [
      " Volume in drive C is OSDisk\n",
      " Volume Serial Number is AC1C-B4C7\n",
      "\n",
      " Directory of C:\\local\\dev\\Diagnostics\n",
      "\n",
      "22/03/2016  12:08    <DIR>          .\n",
      "22/03/2016  12:08    <DIR>          ..\n",
      "22/03/2016  08:44    <DIR>          .ipynb_checkpoints\n",
      "22/03/2016  08:41             1,461 20160321_cancer_waiting_times.csv\n",
      "22/03/2016  09:53             1,920 20160321_data_sets.csv\n",
      "22/03/2016  09:53             1,920 20160321_diagnostic_imaging_dataset.csv\n",
      "22/03/2016  12:08             4,410 download_test_v1.ipynb\n",
      "22/03/2016  10:36                46 README.md\n",
      "               5 File(s)          9,757 bytes\n",
      "               3 Dir(s)  16,383,111,168 bytes free\n"
     ]
    }
   ],
   "source": [
    "!dir"
   ]
  },
  {
   "cell_type": "markdown",
   "metadata": {},
   "source": [
    "!atom README.md"
   ]
  },
  {
   "cell_type": "code",
   "execution_count": 6,
   "metadata": {
    "collapsed": false
   },
   "outputs": [
    {
     "name": "stdout",
     "output_type": "stream",
     "text": [
      "2015-2016 DID_diagnostic_imaging_dataset_modality_provider_counts\n",
      "2014-2015 DID_diagnostic_imaging_dataset_modality_provider_counts\n",
      "2013-2014 DID_diagnostic_imaging_dataset_modality_provider_counts\n",
      "2012-2013 DID_diagnostic_imaging_dataset_modality_provider_counts\n",
      "201601 Monthly_Diagnostic_Waiting_Times_and_Activity\n",
      "201512 Monthly_Diagnostic_Waiting_Times_and_Activity\n",
      "201511 Monthly_Diagnostic_Waiting_Times_and_Activity\n",
      "201510 Monthly_Diagnostic_Waiting_Times_and_Activity\n",
      "201509 Monthly_Diagnostic_Waiting_Times_and_Activity\n",
      "All downloads complete\n"
     ]
    }
   ],
   "source": [
    "def initiate_file_download(file_name):\n",
    "    \"\"\"\n",
    "    function which takes file_name: csv file containing data on name/date/http location of files to be downloaded\n",
    "    Initiates download into folder with name of dataset \n",
    "    \"\"\"\n",
    "    #### create diag_data directory if does not exist\n",
    "    directory  = '../diag_data'\n",
    "    if not os.path.exists(directory):\n",
    "        os.makedirs(directory)\n",
    "    \n",
    "    #### Look in file_name and create df\n",
    "    file_lst = pd.read_csv(file_name)\n",
    "    \n",
    "    #### begin looping over dataframe to download each file\n",
    "    for i,row in file_lst.iterrows():\n",
    "        #print(i)\n",
    "        print(row['Date'] + ' ' + row['Name'])\n",
    "        #print(row['Url'])\n",
    "        \n",
    "        #### check for data_directory and create if does not exist\n",
    "        directory  = '../diag_data/' + row['Name']\n",
    "        if not os.path.exists(directory):\n",
    "            os.makedirs(directory)\n",
    "            \n",
    "        #### get file extension\n",
    "        ext = row['Url'].split('.')[-1]\n",
    "        #### get file name\n",
    "        name = row['Date'] + '(' str(row['Period']) + ')'\n",
    "            \n",
    "        #### download file\n",
    "        urllib.request.urlretrieve(row['Url'], directory + '/' + name + '.' + ext)\n",
    "    \n",
    "    \n",
    "    return(print('All downloads complete'))\n",
    "\n",
    "initiate_file_download('20160321_data_sets.csv')\n",
    "#initiate_file_download('20160321_cancer_waiting_times.csv')"
   ]
  },
  {
   "cell_type": "code",
   "execution_count": null,
   "metadata": {
    "collapsed": true
   },
   "outputs": [],
   "source": []
  }
 ],
 "metadata": {
  "kernelspec": {
   "display_name": "Python 3",
   "language": "python",
   "name": "python3"
  },
  "language_info": {
   "codemirror_mode": {
    "name": "ipython",
    "version": 3
   },
   "file_extension": ".py",
   "mimetype": "text/x-python",
   "name": "python",
   "nbconvert_exporter": "python",
   "pygments_lexer": "ipython3",
   "version": "3.4.3"
  }
 },
 "nbformat": 4,
 "nbformat_minor": 0
}
