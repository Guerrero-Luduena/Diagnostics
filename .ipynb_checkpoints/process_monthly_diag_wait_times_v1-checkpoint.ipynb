{
 "cells": [
  {
   "cell_type": "code",
   "execution_count": 5,
   "metadata": {
    "collapsed": false
   },
   "outputs": [],
   "source": [
    "import pandas as pd\n",
    "import numpy as np\n",
    "import zipfile\n",
    "import os\n",
    "from os import listdir\n",
    "from os.path import isfile, join"
   ]
  },
  {
   "cell_type": "markdown",
   "metadata": {
    "collapsed": true
   },
   "source": [
    "## UnZip files"
   ]
  },
  {
   "cell_type": "code",
   "execution_count": 6,
   "metadata": {
    "collapsed": false
   },
   "outputs": [],
   "source": [
    "#### specify directory that you want unzipping\n",
    "directory = '../diag_data/Monthly_Diagnostic_Waiting_Times_and_Activity/'"
   ]
  },
  {
   "cell_type": "code",
   "execution_count": 7,
   "metadata": {
    "collapsed": false
   },
   "outputs": [],
   "source": [
    "#### get list of files in directory\n",
    "files = [f for f in listdir(directory) if isfile(join(directory, f))]\n",
    "\n",
    "#### filter for .zip files\n",
    "files = [x for x in files if x.endswith(('.zip'))]"
   ]
  },
  {
   "cell_type": "code",
   "execution_count": 8,
   "metadata": {
    "collapsed": false
   },
   "outputs": [],
   "source": [
    "#### unzip all files in 'directory' with same names as .zip files\n",
    "for file in files:\n",
    "    z = zipfile.ZipFile(directory + file)\n",
    "    for i, f in enumerate(z.filelist):\n",
    "        filename_noext = file.split('.')[0]\n",
    "        old_ext = f.filename.split('.')[-1]\n",
    "        f.filename = (filename_noext + '.' + old_ext).format(i)\n",
    "    z.extract(f, path=directory)"
   ]
  },
  {
   "cell_type": "markdown",
   "metadata": {
    "collapsed": true
   },
   "source": [
    "## Begin combining files"
   ]
  },
  {
   "cell_type": "code",
   "execution_count": 9,
   "metadata": {
    "collapsed": true
   },
   "outputs": [],
   "source": [
    "#directory = '../diag_data/test/'\n",
    "directory = '../diag_data/Monthly_Diagnostic_Waiting_Times_and_Activity/'"
   ]
  },
  {
   "cell_type": "code",
   "execution_count": 10,
   "metadata": {
    "collapsed": false
   },
   "outputs": [],
   "source": [
    "#### get list of files in directory\n",
    "files = [f for f in listdir(directory) if isfile(join(directory, f))]\n",
    "\n",
    "#### filter for .csv files\n",
    "files = [x for x in files if x.endswith(('.csv'))]"
   ]
  },
  {
   "cell_type": "code",
   "execution_count": 11,
   "metadata": {
    "collapsed": false
   },
   "outputs": [
    {
     "data": {
      "text/plain": [
       "['201304(2013-04-01).csv',\n",
       " '201305(2013-05-01).csv',\n",
       " '201306(2013-06-01).csv',\n",
       " '201307(2013-07-01).csv',\n",
       " '201308(2013-08-01).csv',\n",
       " '201309(2013-09-01).csv',\n",
       " '201310(2013-10-01).csv',\n",
       " '201311(2013-11-01).csv',\n",
       " '201312(2013-12-01).csv',\n",
       " '201401(2014-01-01).csv',\n",
       " '201402(2014-02-01).csv',\n",
       " '201403(2014-03-01).csv',\n",
       " '201404(2014-04-01).csv',\n",
       " '201405(2014-05-01).csv',\n",
       " '201406(2014-06-01).csv',\n",
       " '201407(2014-07-01).csv',\n",
       " '201408(2014-08-01).csv',\n",
       " '201409(2014-09-01).csv',\n",
       " '201410(2014-10-01).csv',\n",
       " '201411(2014-11-01).csv',\n",
       " '201412(2014-12-01).csv',\n",
       " '201501(2015-01-01).csv',\n",
       " '201502(2015-02-01).csv',\n",
       " '201503(2015-03-01).csv',\n",
       " '201504(2015-04-01).csv',\n",
       " '201505(2015-05-01).csv',\n",
       " '201506(2015-06-01).csv',\n",
       " '201507(2015-07-01).csv',\n",
       " '201508(2015-08-01).csv',\n",
       " '201509(2015-09-01).csv',\n",
       " '201510(2015-10-01).csv',\n",
       " '201511(2015-11-01).csv',\n",
       " '201512(2015-12-01).csv',\n",
       " '201601(2016-01-01).csv']"
      ]
     },
     "execution_count": 11,
     "metadata": {},
     "output_type": "execute_result"
    }
   ],
   "source": [
    "files"
   ]
  },
  {
   "cell_type": "code",
   "execution_count": 12,
   "metadata": {
    "collapsed": false
   },
   "outputs": [
    {
     "name": "stdout",
     "output_type": "stream",
     "text": [
      "2013-04-01\n",
      "2013-05-01\n",
      "2013-06-01\n",
      "2013-07-01\n",
      "2013-08-01\n",
      "2013-09-01\n",
      "2013-10-01\n",
      "2013-11-01\n",
      "2013-12-01\n",
      "2014-01-01\n",
      "2014-02-01\n",
      "2014-03-01\n",
      "2014-04-01\n",
      "2014-05-01\n",
      "2014-06-01\n",
      "2014-07-01\n",
      "2014-08-01\n",
      "2014-09-01\n",
      "2014-10-01\n",
      "2014-11-01\n",
      "2014-12-01\n",
      "2015-01-01\n",
      "2015-02-01\n",
      "2015-03-01\n",
      "2015-04-01\n",
      "2015-05-01\n",
      "2015-06-01\n",
      "2015-07-01\n",
      "2015-08-01\n",
      "2015-09-01\n",
      "2015-10-01\n",
      "2015-11-01\n",
      "2015-12-01\n",
      "2016-01-01\n",
      "All files loaded to master df\n"
     ]
    }
   ],
   "source": [
    "master = pd.DataFrame()\n",
    "for name in files:\n",
    "    #### make temp df with new csv\n",
    "    temp = pd.read_csv(directory + name , skiprows=4)\n",
    "    \n",
    "    #### get timestamp\n",
    "    time_id = name.split('(')[-1]\n",
    "    time_id = time_id.split(')')[0]\n",
    "    print(time_id)\n",
    "    ##comvert to datetime\n",
    "    time_id = pd.to_datetime(time_id)\n",
    "    \n",
    "    #### add year.month column\n",
    "    temp['Year_month'] = time_id.strftime('%Y.%m') # create new column and impute values\n",
    "    temp['year1'] = time_id.strftime('%Y')\n",
    "    temp['month'] = time_id.strftime('%m')\n",
    "    \n",
    "    \n",
    "    #### append current temp df to master df\n",
    "    master = master.append(temp, ignore_index=True)\n",
    "    \n",
    "print('All files loaded to master df')"
   ]
  },
  {
   "cell_type": "markdown",
   "metadata": {},
   "source": [
    "# Save files to csv called 'combined_v1.csv' in 'combined' directory"
   ]
  },
  {
   "cell_type": "code",
   "execution_count": 13,
   "metadata": {
    "collapsed": false
   },
   "outputs": [
    {
     "name": "stdout",
     "output_type": "stream",
     "text": [
      "csv write complete\n"
     ]
    }
   ],
   "source": [
    "#### create new folder\n",
    "newfold  = directory + 'combined/'\n",
    "if not os.path.exists(newfold):\n",
    "    os.makedirs(newfold)\n",
    "\n",
    "#### create combined csv\n",
    "master.to_csv(newfold + 'combined_v1.csv',index=False)\n",
    "print('csv write complete')"
   ]
  },
  {
   "cell_type": "markdown",
   "metadata": {},
   "source": [
    "# Dev\n",
    "### Richard if I ever have a 'Dev' section it you shouldn't run anything in there (it's usually a mess of code that I use to inform the 'clean' code above it"
   ]
  },
  {
   "cell_type": "code",
   "execution_count": null,
   "metadata": {
    "collapsed": true
   },
   "outputs": [],
   "source": []
  }
 ],
 "metadata": {
  "kernelspec": {
   "display_name": "Python 3",
   "language": "python",
   "name": "python3"
  },
  "language_info": {
   "codemirror_mode": {
    "name": "ipython",
    "version": 3
   },
   "file_extension": ".py",
   "mimetype": "text/x-python",
   "name": "python",
   "nbconvert_exporter": "python",
   "pygments_lexer": "ipython3",
   "version": "3.4.3"
  }
 },
 "nbformat": 4,
 "nbformat_minor": 0
}
