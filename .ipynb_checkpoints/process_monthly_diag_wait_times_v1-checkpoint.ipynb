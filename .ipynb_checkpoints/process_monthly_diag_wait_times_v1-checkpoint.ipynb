{
 "cells": [
  {
   "cell_type": "code",
   "execution_count": 5,
   "metadata": {
    "collapsed": true
   },
   "outputs": [],
   "source": [
    "import pandas as pd\n",
    "import numpy as np\n",
    "import zipfile\n",
    "from os import listdir\n",
    "from os.path import isfile, join"
   ]
  },
  {
   "cell_type": "code",
   "execution_count": null,
   "metadata": {
    "collapsed": true
   },
   "outputs": [],
   "source": []
  },
  {
   "cell_type": "code",
   "execution_count": 6,
   "metadata": {
    "collapsed": false
   },
   "outputs": [],
   "source": [
    "#### specify directory that you want unzipping\n",
    "directory = '../diag_data/Monthly_Diagnostic_Waiting_Times_and_Activity/'"
   ]
  },
  {
   "cell_type": "code",
   "execution_count": 7,
   "metadata": {
    "collapsed": false
   },
   "outputs": [],
   "source": [
    "#### get list of files in directory\n",
    "files = [f for f in listdir(directory) if isfile(join(directory, f))]\n",
    "\n",
    "#### filter for .zip files\n",
    "files = [x for x in files if x.endswith(('.zip'))]"
   ]
  },
  {
   "cell_type": "code",
   "execution_count": 8,
   "metadata": {
    "collapsed": false
   },
   "outputs": [],
   "source": [
    "#### unzip all files in 'directory' with same names as .zip files\n",
    "for file in files:\n",
    "    z = zipfile.ZipFile(directory + file)\n",
    "    for i, f in enumerate(z.filelist):\n",
    "        filename_noext = file.split('.')[0]\n",
    "        old_ext = f.filename.split('.')[-1]\n",
    "        f.filename = (filename_noext + '.' + old_ext).format(i)\n",
    "    z.extract(f, path=directory)"
   ]
  },
  {
   "cell_type": "code",
   "execution_count": null,
   "metadata": {
    "collapsed": true
   },
   "outputs": [],
   "source": []
  }
 ],
 "metadata": {
  "kernelspec": {
   "display_name": "Python 3",
   "language": "python",
   "name": "python3"
  },
  "language_info": {
   "codemirror_mode": {
    "name": "ipython",
    "version": 3
   },
   "file_extension": ".py",
   "mimetype": "text/x-python",
   "name": "python",
   "nbconvert_exporter": "python",
   "pygments_lexer": "ipython3",
   "version": "3.4.3"
  }
 },
 "nbformat": 4,
 "nbformat_minor": 0
}
