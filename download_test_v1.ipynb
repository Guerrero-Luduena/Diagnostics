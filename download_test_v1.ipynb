{
 "cells": [
  {
   "cell_type": "code",
   "execution_count": 1,
   "metadata": {
    "collapsed": true
   },
   "outputs": [],
   "source": [
    "import pandas as pd\n",
    "import numpy as np\n",
    "import urllib\n",
    "import os"
   ]
  },
  {
   "cell_type": "code",
   "execution_count": 2,
   "metadata": {
    "collapsed": false
   },
   "outputs": [
    {
     "data": {
      "text/html": [
       "<div>\n",
       "<table border=\"1\" class=\"dataframe\">\n",
       "  <thead>\n",
       "    <tr style=\"text-align: right;\">\n",
       "      <th></th>\n",
       "      <th>Date</th>\n",
       "      <th>Period</th>\n",
       "      <th>Name</th>\n",
       "      <th>Url</th>\n",
       "      <th>Description</th>\n",
       "    </tr>\n",
       "  </thead>\n",
       "  <tbody>\n",
       "    <tr>\n",
       "      <th>0</th>\n",
       "      <td>2015-2016</td>\n",
       "      <td>2001-01-01</td>\n",
       "      <td>DID_diagnostic_imaging_dataset_modality_provid...</td>\n",
       "      <td>https://www.england.nhs.uk/statistics/wp-conte...</td>\n",
       "      <td>Tables 1a-1h 2015-16 Modality Provider Counts ...</td>\n",
       "    </tr>\n",
       "    <tr>\n",
       "      <th>1</th>\n",
       "      <td>2014-2015</td>\n",
       "      <td>2001-01-01</td>\n",
       "      <td>DID_diagnostic_imaging_dataset_modality_provid...</td>\n",
       "      <td>https://www.england.nhs.uk/statistics/wp-conte...</td>\n",
       "      <td>Table 1a-1l 2014-15 Modality Provider Counts 2...</td>\n",
       "    </tr>\n",
       "    <tr>\n",
       "      <th>2</th>\n",
       "      <td>2013-2014</td>\n",
       "      <td>2001-01-01</td>\n",
       "      <td>DID_diagnostic_imaging_dataset_modality_provid...</td>\n",
       "      <td>https://www.england.nhs.uk/statistics/wp-conte...</td>\n",
       "      <td>Table 1a-1l 2013-14 Modality Provider Counts (...</td>\n",
       "    </tr>\n",
       "    <tr>\n",
       "      <th>3</th>\n",
       "      <td>2012-2013</td>\n",
       "      <td>2001-01-01</td>\n",
       "      <td>DID_diagnostic_imaging_dataset_modality_provid...</td>\n",
       "      <td>https://www.england.nhs.uk/statistics/wp-conte...</td>\n",
       "      <td>Tables 1a-1l Modality Provider Counts 2013-10-...</td>\n",
       "    </tr>\n",
       "    <tr>\n",
       "      <th>4</th>\n",
       "      <td>jan 16</td>\n",
       "      <td>2016-01-01</td>\n",
       "      <td>Monthly_Diagnostic_Waiting_Times_and_Activity</td>\n",
       "      <td>https://www.england.nhs.uk/statistics/wp-conte...</td>\n",
       "      <td>NaN</td>\n",
       "    </tr>\n",
       "  </tbody>\n",
       "</table>\n",
       "</div>"
      ],
      "text/plain": [
       "        Date     Period                                               Name  \\\n",
       "0  2015-2016 2001-01-01  DID_diagnostic_imaging_dataset_modality_provid...   \n",
       "1  2014-2015 2001-01-01  DID_diagnostic_imaging_dataset_modality_provid...   \n",
       "2  2013-2014 2001-01-01  DID_diagnostic_imaging_dataset_modality_provid...   \n",
       "3  2012-2013 2001-01-01  DID_diagnostic_imaging_dataset_modality_provid...   \n",
       "4     jan 16 2016-01-01      Monthly_Diagnostic_Waiting_Times_and_Activity   \n",
       "\n",
       "                                                 Url  \\\n",
       "0  https://www.england.nhs.uk/statistics/wp-conte...   \n",
       "1  https://www.england.nhs.uk/statistics/wp-conte...   \n",
       "2  https://www.england.nhs.uk/statistics/wp-conte...   \n",
       "3  https://www.england.nhs.uk/statistics/wp-conte...   \n",
       "4  https://www.england.nhs.uk/statistics/wp-conte...   \n",
       "\n",
       "                                         Description  \n",
       "0  Tables 1a-1h 2015-16 Modality Provider Counts ...  \n",
       "1  Table 1a-1l 2014-15 Modality Provider Counts 2...  \n",
       "2  Table 1a-1l 2013-14 Modality Provider Counts (...  \n",
       "3  Tables 1a-1l Modality Provider Counts 2013-10-...  \n",
       "4                                                NaN  "
      ]
     },
     "execution_count": 2,
     "metadata": {},
     "output_type": "execute_result"
    }
   ],
   "source": [
    "test = pd.read_excel('20160321_data_sets_V2.xlsx',sheetname='Sheet1')\n",
    "test.head()"
   ]
  },
  {
   "cell_type": "code",
   "execution_count": 3,
   "metadata": {
    "collapsed": false
   },
   "outputs": [
    {
     "data": {
      "text/plain": [
       "'2015-07-01'"
      ]
     },
     "execution_count": 3,
     "metadata": {},
     "output_type": "execute_result"
    }
   ],
   "source": [
    "test.Period[10].strftime('%Y-%m-%d')\n"
   ]
  },
  {
   "cell_type": "markdown",
   "metadata": {},
   "source": [
    "!atom README.md"
   ]
  },
  {
   "cell_type": "code",
   "execution_count": 5,
   "metadata": {
    "collapsed": false
   },
   "outputs": [
    {
     "name": "stdout",
     "output_type": "stream",
     "text": [
      "2015-2016 DID_diagnostic_imaging_dataset_modality_provider_counts\n",
      "2014-2015 DID_diagnostic_imaging_dataset_modality_provider_counts\n",
      "2013-2014 DID_diagnostic_imaging_dataset_modality_provider_counts\n",
      "2012-2013 DID_diagnostic_imaging_dataset_modality_provider_counts\n",
      "jan 16 Monthly_Diagnostic_Waiting_Times_and_Activity\n",
      "dec 15 Monthly_Diagnostic_Waiting_Times_and_Activity\n",
      "nov 15 Monthly_Diagnostic_Waiting_Times_and_Activity\n",
      "oct 15 Monthly_Diagnostic_Waiting_Times_and_Activity\n",
      "sep 15 Monthly_Diagnostic_Waiting_Times_and_Activity\n",
      "aug 15 Monthly_Diagnostic_Waiting_Times_and_Activity\n",
      "jul 15 Monthly_Diagnostic_Waiting_Times_and_Activity\n",
      "jun 15 Monthly_Diagnostic_Waiting_Times_and_Activity\n",
      "may 15 Monthly_Diagnostic_Waiting_Times_and_Activity\n",
      "apr 15 Monthly_Diagnostic_Waiting_Times_and_Activity\n",
      "mar 15 Monthly_Diagnostic_Waiting_Times_and_Activity\n",
      "feb 15 Monthly_Diagnostic_Waiting_Times_and_Activity\n",
      "jan 15 Monthly_Diagnostic_Waiting_Times_and_Activity\n",
      "dec 14 Monthly_Diagnostic_Waiting_Times_and_Activity\n",
      "nov 14 Monthly_Diagnostic_Waiting_Times_and_Activity\n",
      "oct 14 Monthly_Diagnostic_Waiting_Times_and_Activity\n",
      "sep 14 Monthly_Diagnostic_Waiting_Times_and_Activity\n",
      "aug 14 Monthly_Diagnostic_Waiting_Times_and_Activity\n",
      "jul 14 Monthly_Diagnostic_Waiting_Times_and_Activity\n",
      "jun 14 Monthly_Diagnostic_Waiting_Times_and_Activity\n",
      "may 14 Monthly_Diagnostic_Waiting_Times_and_Activity\n",
      "apr 14 Monthly_Diagnostic_Waiting_Times_and_Activity\n",
      "mar 14 Monthly_Diagnostic_Waiting_Times_and_Activity\n",
      "feb 14 Monthly_Diagnostic_Waiting_Times_and_Activity\n",
      "jan 14 Monthly_Diagnostic_Waiting_Times_and_Activity\n",
      "dec 12 Monthly_Diagnostic_Waiting_Times_and_Activity\n",
      "nov 12 Monthly_Diagnostic_Waiting_Times_and_Activity\n",
      "oct 12 Monthly_Diagnostic_Waiting_Times_and_Activity\n",
      "sep 12 Monthly_Diagnostic_Waiting_Times_and_Activity\n",
      "aug 12 Monthly_Diagnostic_Waiting_Times_and_Activity\n",
      "jul 12 Monthly_Diagnostic_Waiting_Times_and_Activity\n",
      "jun 12 Monthly_Diagnostic_Waiting_Times_and_Activity\n",
      "may 12 Monthly_Diagnostic_Waiting_Times_and_Activity\n",
      "apr 12 Monthly_Diagnostic_Waiting_Times_and_Activity\n",
      "All downloads complete\n"
     ]
    }
   ],
   "source": [
    "def initiate_file_download(file_name):\n",
    "    \"\"\"\n",
    "    function which takes file_name: csv file containing data on name/date/http location of files to be downloaded\n",
    "    Initiates download into folder with name of dataset \n",
    "    \"\"\"\n",
    "    #### create diag_data directory if does not exist\n",
    "    directory  = '../diag_data'\n",
    "    if not os.path.exists(directory):\n",
    "        os.makedirs(directory)\n",
    "    \n",
    "    #### Look in file_name and create df\n",
    "    file_lst = pd.read_excel(file_name) #,error_bad_lines=False)\n",
    "    \n",
    "    #### begin looping over dataframe to download each file\n",
    "    for i,row in file_lst.iterrows():\n",
    "        #print(i)\n",
    "        print(row['Date'] + ' ' + row['Name'])\n",
    "        #print(row['Url'])\n",
    "        \n",
    "        #### check for data_directory and create if does not exist\n",
    "        directory  = '../diag_data/' + row['Name']\n",
    "        if not os.path.exists(directory):\n",
    "            os.makedirs(directory)\n",
    "            \n",
    "        #### get file extension\n",
    "        ext = row['Url'].split('.')[-1]\n",
    "        #### get file name\n",
    "        name = row['Date'] + '(' + row['Period'].strftime('%Y-%m-%d') + ')'\n",
    "            \n",
    "        #### download file\n",
    "        urllib.request.urlretrieve(row['Url'], directory + '/' + name + '.' + ext)\n",
    "        \n",
    "    return(print('All downloads complete'))\n",
    "\n",
    "initiate_file_download('20160321_data_sets_v2.xlsx')\n",
    "#initiate_file_download('20160321_cancer_waiting_times.csv')"
   ]
  },
  {
   "cell_type": "code",
   "execution_count": null,
   "metadata": {
    "collapsed": true
   },
   "outputs": [],
   "source": []
  },
  {
   "cell_type": "code",
   "execution_count": null,
   "metadata": {
    "collapsed": true
   },
   "outputs": [],
   "source": []
  },
  {
   "cell_type": "code",
   "execution_count": 31,
   "metadata": {
    "collapsed": false
   },
   "outputs": [],
   "source": []
  },
  {
   "cell_type": "code",
   "execution_count": null,
   "metadata": {
    "collapsed": true
   },
   "outputs": [],
   "source": []
  }
 ],
 "metadata": {
  "kernelspec": {
   "display_name": "Python 3",
   "language": "python",
   "name": "python3"
  },
  "language_info": {
   "codemirror_mode": {
    "name": "ipython",
    "version": 3
   },
   "file_extension": ".py",
   "mimetype": "text/x-python",
   "name": "python",
   "nbconvert_exporter": "python",
   "pygments_lexer": "ipython3",
   "version": "3.5.0"
  }
 },
 "nbformat": 4,
 "nbformat_minor": 0
}
