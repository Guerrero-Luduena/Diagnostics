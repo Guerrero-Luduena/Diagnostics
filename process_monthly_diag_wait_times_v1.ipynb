{
 "cells": [
  {
   "cell_type": "code",
   "execution_count": 3,
   "metadata": {
    "collapsed": true
   },
   "outputs": [],
   "source": [
    "import pandas as pd\n",
    "import numpy as np\n",
    "import zipfile\n",
    "from os import listdir\n",
    "from os.path import isfile, join"
   ]
  },
  {
   "cell_type": "markdown",
   "metadata": {
    "collapsed": true
   },
   "source": [
    "## UnZip files"
   ]
  },
  {
   "cell_type": "code",
   "execution_count": 5,
   "metadata": {
    "collapsed": false
   },
   "outputs": [],
   "source": [
    "#### specify directory that you want unzipping\n",
    "directory = '../diag_data/Monthly_Diagnostic_Waiting_Times_and_Activity/'"
   ]
  },
  {
   "cell_type": "code",
   "execution_count": 6,
   "metadata": {
    "collapsed": false
   },
   "outputs": [],
   "source": [
    "#### get list of files in directory\n",
    "files = [f for f in listdir(directory) if isfile(join(directory, f))]\n",
    "\n",
    "#### filter for .zip files\n",
    "files = [x for x in files if x.endswith(('.zip'))]"
   ]
  },
  {
   "cell_type": "code",
   "execution_count": 8,
   "metadata": {
    "collapsed": false
   },
   "outputs": [],
   "source": [
    "#### unzip all files in 'directory' with same names as .zip files\n",
    "for file in files:\n",
    "    z = zipfile.ZipFile(directory + file)\n",
    "    for i, f in enumerate(z.filelist):\n",
    "        filename_noext = file.split('.')[0]\n",
    "        old_ext = f.filename.split('.')[-1]\n",
    "        f.filename = (filename_noext + '.' + old_ext).format(i)\n",
    "    z.extract(f, path=directory)"
   ]
  },
  {
   "cell_type": "markdown",
   "metadata": {
    "collapsed": true
   },
   "source": [
    "## Begin combining files"
   ]
  },
  {
   "cell_type": "code",
   "execution_count": null,
   "metadata": {
    "collapsed": true
   },
   "outputs": [],
   "source": []
  },
  {
   "cell_type": "markdown",
   "metadata": {},
   "source": [
    "# Dev"
   ]
  },
  {
   "cell_type": "code",
   "execution_count": 1,
   "metadata": {
    "collapsed": true
   },
   "outputs": [],
   "source": [
    "directory = '../diag_data/test/'"
   ]
  },
  {
   "cell_type": "code",
   "execution_count": 5,
   "metadata": {
    "collapsed": false
   },
   "outputs": [],
   "source": [
    "#### get list of files in directory\n",
    "files = [f for f in listdir(directory) if isfile(join(directory, f))]\n",
    "\n",
    "#### filter for .csv files\n",
    "files = [x for x in files if x.endswith(('.csv'))]"
   ]
  },
  {
   "cell_type": "code",
   "execution_count": 7,
   "metadata": {
    "collapsed": false
   },
   "outputs": [
    {
     "data": {
      "text/plain": [
       "['201304(2013-04-01).csv', '201305(2013-05-01).csv']"
      ]
     },
     "execution_count": 7,
     "metadata": {},
     "output_type": "execute_result"
    }
   ],
   "source": [
    "files"
   ]
  },
  {
   "cell_type": "code",
   "execution_count": 39,
   "metadata": {
    "collapsed": false
   },
   "outputs": [
    {
     "name": "stdout",
     "output_type": "stream",
     "text": [
      "2013-04-01\n",
      "2013-05-01\n"
     ]
    }
   ],
   "source": [
    "master = pd.DataFrame()\n",
    "for name in files:\n",
    "    #### make temp df with new csv\n",
    "    temp = pd.read_csv(directory + name , skiprows=4)\n",
    "    \n",
    "    #### get timestamp\n",
    "    time_id = name.split('(')[-1]\n",
    "    time_id = time_id.split(')')[0]\n",
    "    print(time_id)\n",
    "    ##comvert to datetime\n",
    "    time_id = pd.to_datetime(time_id)\n",
    "    \n",
    "    #### add year.month column\n",
    "    year_month = time_id.strftime('%Y.%m') # create value\n",
    "    temp['Year_month'] = year_month # create new column and impute values\n",
    "    temp['year1'] = time_id.strftime('%Y')\n",
    "    temp['month'] = time_id.strftime('%m')\n",
    "    \n",
    "    \n",
    "    #### append current temp df to master df\n",
    "    master = master.append(temp, ignore_index=True)"
   ]
  },
  {
   "cell_type": "code",
   "execution_count": 40,
   "metadata": {
    "collapsed": false
   },
   "outputs": [
    {
     "data": {
      "text/html": [
       "<div>\n",
       "<table border=\"1\" class=\"dataframe\">\n",
       "  <thead>\n",
       "    <tr style=\"text-align: right;\">\n",
       "      <th></th>\n",
       "      <th>Year</th>\n",
       "      <th>Period Name</th>\n",
       "      <th>Provider Parent Org Code</th>\n",
       "      <th>Provider Parent Name</th>\n",
       "      <th>Provider Org Code</th>\n",
       "      <th>Provider Org Name</th>\n",
       "      <th>Commissioner Parent Org Code</th>\n",
       "      <th>Commissioner Parent Name</th>\n",
       "      <th>Commissioner Org Code</th>\n",
       "      <th>Commissioner Org Name</th>\n",
       "      <th>...</th>\n",
       "      <th>52 Plus Weeks SUM</th>\n",
       "      <th>Total WL SUM</th>\n",
       "      <th>Waiting List Activity SUM</th>\n",
       "      <th>Planned Activity SUM</th>\n",
       "      <th>Unscheduled Activity SUM</th>\n",
       "      <th>Total Activity SUM</th>\n",
       "      <th>Status</th>\n",
       "      <th>Year_month</th>\n",
       "      <th>year1</th>\n",
       "      <th>month</th>\n",
       "    </tr>\n",
       "  </thead>\n",
       "  <tbody>\n",
       "    <tr>\n",
       "      <th>0</th>\n",
       "      <td>2013-14</td>\n",
       "      <td>APRIL</td>\n",
       "      <td>XDH</td>\n",
       "      <td>DEPARTMENT OF HEALTH</td>\n",
       "      <td>IS1</td>\n",
       "      <td>INDEPENDENT SECTOR - UNSPECIFIED</td>\n",
       "      <td>Q49</td>\n",
       "      <td>CUMBRIA, NORTHUMBERLAND, TYNE AND WEAR AREA TEAM</td>\n",
       "      <td>00L</td>\n",
       "      <td>NHS NORTHUMBERLAND CCG</td>\n",
       "      <td>...</td>\n",
       "      <td>NaN</td>\n",
       "      <td>8</td>\n",
       "      <td>34</td>\n",
       "      <td>0</td>\n",
       "      <td>0</td>\n",
       "      <td>34</td>\n",
       "      <td>PUBLIC</td>\n",
       "      <td>2013.04</td>\n",
       "      <td>2013</td>\n",
       "      <td>04</td>\n",
       "    </tr>\n",
       "    <tr>\n",
       "      <th>1</th>\n",
       "      <td>2013-14</td>\n",
       "      <td>APRIL</td>\n",
       "      <td>XDH</td>\n",
       "      <td>DEPARTMENT OF HEALTH</td>\n",
       "      <td>IS1</td>\n",
       "      <td>INDEPENDENT SECTOR - UNSPECIFIED</td>\n",
       "      <td>Q49</td>\n",
       "      <td>CUMBRIA, NORTHUMBERLAND, TYNE AND WEAR AREA TEAM</td>\n",
       "      <td>00L</td>\n",
       "      <td>NHS NORTHUMBERLAND CCG</td>\n",
       "      <td>...</td>\n",
       "      <td>NaN</td>\n",
       "      <td>0</td>\n",
       "      <td>0</td>\n",
       "      <td>0</td>\n",
       "      <td>0</td>\n",
       "      <td>0</td>\n",
       "      <td>PUBLIC</td>\n",
       "      <td>2013.04</td>\n",
       "      <td>2013</td>\n",
       "      <td>04</td>\n",
       "    </tr>\n",
       "    <tr>\n",
       "      <th>2</th>\n",
       "      <td>2013-14</td>\n",
       "      <td>APRIL</td>\n",
       "      <td>XDH</td>\n",
       "      <td>DEPARTMENT OF HEALTH</td>\n",
       "      <td>IS1</td>\n",
       "      <td>INDEPENDENT SECTOR - UNSPECIFIED</td>\n",
       "      <td>Q49</td>\n",
       "      <td>CUMBRIA, NORTHUMBERLAND, TYNE AND WEAR AREA TEAM</td>\n",
       "      <td>00L</td>\n",
       "      <td>NHS NORTHUMBERLAND CCG</td>\n",
       "      <td>...</td>\n",
       "      <td>NaN</td>\n",
       "      <td>52</td>\n",
       "      <td>68</td>\n",
       "      <td>0</td>\n",
       "      <td>0</td>\n",
       "      <td>68</td>\n",
       "      <td>PUBLIC</td>\n",
       "      <td>2013.04</td>\n",
       "      <td>2013</td>\n",
       "      <td>04</td>\n",
       "    </tr>\n",
       "    <tr>\n",
       "      <th>3</th>\n",
       "      <td>2013-14</td>\n",
       "      <td>APRIL</td>\n",
       "      <td>XDH</td>\n",
       "      <td>DEPARTMENT OF HEALTH</td>\n",
       "      <td>IS1</td>\n",
       "      <td>INDEPENDENT SECTOR - UNSPECIFIED</td>\n",
       "      <td>Q49</td>\n",
       "      <td>CUMBRIA, NORTHUMBERLAND, TYNE AND WEAR AREA TEAM</td>\n",
       "      <td>00L</td>\n",
       "      <td>NHS NORTHUMBERLAND CCG</td>\n",
       "      <td>...</td>\n",
       "      <td>NaN</td>\n",
       "      <td>0</td>\n",
       "      <td>0</td>\n",
       "      <td>0</td>\n",
       "      <td>0</td>\n",
       "      <td>0</td>\n",
       "      <td>PUBLIC</td>\n",
       "      <td>2013.04</td>\n",
       "      <td>2013</td>\n",
       "      <td>04</td>\n",
       "    </tr>\n",
       "    <tr>\n",
       "      <th>4</th>\n",
       "      <td>2013-14</td>\n",
       "      <td>APRIL</td>\n",
       "      <td>XDH</td>\n",
       "      <td>DEPARTMENT OF HEALTH</td>\n",
       "      <td>IS1</td>\n",
       "      <td>INDEPENDENT SECTOR - UNSPECIFIED</td>\n",
       "      <td>Q49</td>\n",
       "      <td>CUMBRIA, NORTHUMBERLAND, TYNE AND WEAR AREA TEAM</td>\n",
       "      <td>00L</td>\n",
       "      <td>NHS NORTHUMBERLAND CCG</td>\n",
       "      <td>...</td>\n",
       "      <td>NaN</td>\n",
       "      <td>0</td>\n",
       "      <td>0</td>\n",
       "      <td>0</td>\n",
       "      <td>0</td>\n",
       "      <td>0</td>\n",
       "      <td>PUBLIC</td>\n",
       "      <td>2013.04</td>\n",
       "      <td>2013</td>\n",
       "      <td>04</td>\n",
       "    </tr>\n",
       "  </tbody>\n",
       "</table>\n",
       "<p>5 rows × 74 columns</p>\n",
       "</div>"
      ],
      "text/plain": [
       "      Year Period Name Provider Parent Org Code  Provider Parent Name  \\\n",
       "0  2013-14       APRIL                      XDH  DEPARTMENT OF HEALTH   \n",
       "1  2013-14       APRIL                      XDH  DEPARTMENT OF HEALTH   \n",
       "2  2013-14       APRIL                      XDH  DEPARTMENT OF HEALTH   \n",
       "3  2013-14       APRIL                      XDH  DEPARTMENT OF HEALTH   \n",
       "4  2013-14       APRIL                      XDH  DEPARTMENT OF HEALTH   \n",
       "\n",
       "  Provider Org Code                 Provider Org Name  \\\n",
       "0               IS1  INDEPENDENT SECTOR - UNSPECIFIED   \n",
       "1               IS1  INDEPENDENT SECTOR - UNSPECIFIED   \n",
       "2               IS1  INDEPENDENT SECTOR - UNSPECIFIED   \n",
       "3               IS1  INDEPENDENT SECTOR - UNSPECIFIED   \n",
       "4               IS1  INDEPENDENT SECTOR - UNSPECIFIED   \n",
       "\n",
       "  Commissioner Parent Org Code  \\\n",
       "0                          Q49   \n",
       "1                          Q49   \n",
       "2                          Q49   \n",
       "3                          Q49   \n",
       "4                          Q49   \n",
       "\n",
       "                           Commissioner Parent Name Commissioner Org Code  \\\n",
       "0  CUMBRIA, NORTHUMBERLAND, TYNE AND WEAR AREA TEAM                   00L   \n",
       "1  CUMBRIA, NORTHUMBERLAND, TYNE AND WEAR AREA TEAM                   00L   \n",
       "2  CUMBRIA, NORTHUMBERLAND, TYNE AND WEAR AREA TEAM                   00L   \n",
       "3  CUMBRIA, NORTHUMBERLAND, TYNE AND WEAR AREA TEAM                   00L   \n",
       "4  CUMBRIA, NORTHUMBERLAND, TYNE AND WEAR AREA TEAM                   00L   \n",
       "\n",
       "    Commissioner Org Name  ...    52 Plus Weeks SUM Total WL SUM  \\\n",
       "0  NHS NORTHUMBERLAND CCG  ...                  NaN            8   \n",
       "1  NHS NORTHUMBERLAND CCG  ...                  NaN            0   \n",
       "2  NHS NORTHUMBERLAND CCG  ...                  NaN           52   \n",
       "3  NHS NORTHUMBERLAND CCG  ...                  NaN            0   \n",
       "4  NHS NORTHUMBERLAND CCG  ...                  NaN            0   \n",
       "\n",
       "   Waiting List Activity SUM  Planned Activity SUM  Unscheduled Activity SUM  \\\n",
       "0                         34                     0                         0   \n",
       "1                          0                     0                         0   \n",
       "2                         68                     0                         0   \n",
       "3                          0                     0                         0   \n",
       "4                          0                     0                         0   \n",
       "\n",
       "   Total Activity SUM  Status  Year_month  year1  month  \n",
       "0                  34  PUBLIC     2013.04   2013     04  \n",
       "1                   0  PUBLIC     2013.04   2013     04  \n",
       "2                  68  PUBLIC     2013.04   2013     04  \n",
       "3                   0  PUBLIC     2013.04   2013     04  \n",
       "4                   0  PUBLIC     2013.04   2013     04  \n",
       "\n",
       "[5 rows x 74 columns]"
      ]
     },
     "execution_count": 40,
     "metadata": {},
     "output_type": "execute_result"
    }
   ],
   "source": [
    "master.head()"
   ]
  },
  {
   "cell_type": "code",
   "execution_count": 29,
   "metadata": {
    "collapsed": false
   },
   "outputs": [
    {
     "data": {
      "text/plain": [
       "'2013.05'"
      ]
     },
     "execution_count": 29,
     "metadata": {},
     "output_type": "execute_result"
    }
   ],
   "source": [
    "pd.to_datetime(time_id).strftime('%Y.%m')"
   ]
  },
  {
   "cell_type": "code",
   "execution_count": null,
   "metadata": {
    "collapsed": true
   },
   "outputs": [],
   "source": [
    "names = pd.DataFrame()\n",
    "for year in years:\n",
    "    path ='C:\\\\Documents and Settings\\\\Foo\\\\My Documents\\\\pydata-book\\\\pydata-book-master`\\\\ch02\\\\names\\\\yob%d.txt' % year\n",
    "    frame = pd.read_csv(path, names=columns)\n",
    "\n",
    "    frame['year'] = year\n",
    "    names = names.append(frame, ignore_index=True)"
   ]
  }
 ],
 "metadata": {
  "kernelspec": {
   "display_name": "Python 3",
   "language": "python",
   "name": "python3"
  },
  "language_info": {
   "codemirror_mode": {
    "name": "ipython",
    "version": 3
   },
   "file_extension": ".py",
   "mimetype": "text/x-python",
   "name": "python",
   "nbconvert_exporter": "python",
   "pygments_lexer": "ipython3",
   "version": "3.4.3"
  }
 },
 "nbformat": 4,
 "nbformat_minor": 0
}
